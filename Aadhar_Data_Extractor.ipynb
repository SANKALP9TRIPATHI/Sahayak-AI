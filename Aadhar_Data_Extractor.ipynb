{
  "nbformat": 4,
  "nbformat_minor": 0,
  "metadata": {
    "colab": {
      "provenance": []
    },
    "kernelspec": {
      "name": "python3",
      "display_name": "Python 3"
    },
    "language_info": {
      "name": "python"
    }
  },
  "cells": [
    {
      "cell_type": "code",
      "source": [
        "pip install pytesseract\n"
      ],
      "metadata": {
        "colab": {
          "base_uri": "https://localhost:8080/"
        },
        "id": "Lkh2kDjtOiU6",
        "outputId": "63619079-88a3-4b7b-ec77-32b5a8535f2a"
      },
      "execution_count": null,
      "outputs": [
        {
          "output_type": "stream",
          "name": "stdout",
          "text": [
            "Collecting pytesseract\n",
            "  Downloading pytesseract-0.3.13-py3-none-any.whl.metadata (11 kB)\n",
            "Requirement already satisfied: packaging>=21.3 in /usr/local/lib/python3.12/dist-packages (from pytesseract) (25.0)\n",
            "Requirement already satisfied: Pillow>=8.0.0 in /usr/local/lib/python3.12/dist-packages (from pytesseract) (11.3.0)\n",
            "Downloading pytesseract-0.3.13-py3-none-any.whl (14 kB)\n",
            "Installing collected packages: pytesseract\n",
            "Successfully installed pytesseract-0.3.13\n"
          ]
        }
      ]
    },
    {
      "cell_type": "code",
      "execution_count": null,
      "metadata": {
        "id": "SOxSc4G1OZGm"
      },
      "outputs": [],
      "source": [
        "import cv2\n",
        "import pytesseract\n",
        "import re\n",
        "import json\n",
        "import os\n",
        "from PIL import Image\n",
        "import numpy as np"
      ]
    },
    {
      "cell_type": "code",
      "source": [
        "def ocr_text(image_path):\n",
        "    \"\"\"Perform OCR on image and return extracted text.\"\"\"\n",
        "    img = cv2.imread(image_path)\n",
        "    gray = cv2.cvtColor(img, cv2.COLOR_BGR2GRAY)\n",
        "    gray = cv2.threshold(gray, 0, 255, cv2.THRESH_BINARY + cv2.THRESH_OTSU)[1]\n",
        "    text = pytesseract.image_to_string(gray, lang='eng')\n",
        "    return text\n",
        "\n",
        "\n",
        "def extract_aadhaar_number(text):\n",
        "    \"\"\"Extract Aadhaar number using regex.\"\"\"\n",
        "    match = re.search(r\"\\b\\d{4}\\s\\d{4}\\s\\d{4}\\b\", text)\n",
        "    return match.group(0) if match else None\n",
        "\n",
        "\n",
        "def extract_dob(text):\n",
        "    \"\"\"Extract Date of Birth (DOB) or Year of Birth (YOB).\"\"\"\n",
        "    dob = re.search(r\"(\\d{2}[/-]\\d{2}[/-]\\d{4})\", text)\n",
        "    yob = re.search(r\"(Year of Birth|YOB)[:\\s]*([0-9]{4})\", text, re.IGNORECASE)\n",
        "    if dob:\n",
        "        return dob.group(1)\n",
        "    elif yob:\n",
        "        return yob.group(2)\n",
        "    return None\n",
        "\n",
        "\n",
        "def extract_gender(text):\n",
        "    \"\"\"Extract gender.\"\"\"\n",
        "    if re.search(r'\\bmale\\b', text, re.IGNORECASE):\n",
        "        return \"Male\"\n",
        "    elif re.search(r'\\bfemale\\b', text, re.IGNORECASE):\n",
        "        return \"Female\"\n",
        "    elif re.search(r'\\btransgender\\b', text, re.IGNORECASE):\n",
        "        return \"Transgender\"\n",
        "    return None\n",
        "\n",
        "\n",
        "def extract_name(text):\n",
        "    \"\"\"Extract name from Aadhaar front side text.\"\"\"\n",
        "    lines = [line.strip() for line in text.split(\"\\n\") if line.strip()]\n",
        "    clean_lines = []\n",
        "\n",
        "    for line in lines:\n",
        "        if re.search(r\"(GOVERNMENT|INDIA|VID|DOB|YEAR|MALE|FEMALE|ADDRESS|AADHAAR|S/O|D/O|W/O)\", line, re.IGNORECASE):\n",
        "            continue\n",
        "        if re.search(r\"\\d\", line) or len(line) < 3:\n",
        "            continue\n",
        "        clean_lines.append(line)\n",
        "\n",
        "    for i, line in enumerate(lines):\n",
        "        if re.search(r\"(DOB|Year of Birth|Male|Female)\", line, re.IGNORECASE):\n",
        "            for j in range(max(0, i-3), i):\n",
        "                candidate = lines[j].strip()\n",
        "                if re.search(r\"[A-Z][a-z]+\\s[A-Z][a-z]+\", candidate):\n",
        "                    return candidate\n",
        "            break\n",
        "\n",
        "    for line in clean_lines:\n",
        "        if len(line.split()) >= 2:\n",
        "            return line\n",
        "\n",
        "    return None\n",
        "\n",
        "\n",
        "\n",
        "def extract_address(text):\n",
        "    \"\"\"Extract address block from back side.\"\"\"\n",
        "    lines = [line.strip() for line in text.split(\"\\n\") if line.strip()]\n",
        "    for i, line in enumerate(lines):\n",
        "        if re.search(r\"Address\", line, re.IGNORECASE):\n",
        "            addr = \" \".join(lines[i+1:i+5])\n",
        "            return addr\n",
        "    # fallback: longest multi-line block\n",
        "    if len(lines) > 3:\n",
        "        return \" \".join(lines[-5:])\n",
        "    return None\n",
        "\n",
        "\n",
        "def extract_face(image_path, output_path=\"photo.jpg\"):\n",
        "    \"\"\"Detect and crop face from Aadhaar front image.\"\"\"\n",
        "    img = cv2.imread(image_path)\n",
        "    gray = cv2.cvtColor(img, cv2.COLOR_BGR2GRAY)\n",
        "    face_cascade = cv2.CascadeClassifier(cv2.data.haarcascades + 'haarcascade_frontalface_default.xml')\n",
        "    faces = face_cascade.detectMultiScale(gray, 1.1, 5)\n",
        "    if len(faces) > 0:\n",
        "        x, y, w, h = faces[0]\n",
        "        face = img[y:y+h, x:x+w]\n",
        "        cv2.imwrite(output_path, face)\n",
        "        return output_path\n",
        "    return None"
      ],
      "metadata": {
        "id": "UtFNdMXjOa5A"
      },
      "execution_count": null,
      "outputs": []
    },
    {
      "cell_type": "code",
      "source": [
        "def extract_aadhaar_details(front_path, back_path):\n",
        "    text_front = ocr_text(front_path)\n",
        "    text_back = ocr_text(back_path)\n",
        "    combined = text_front + \"\\n\" + text_back\n",
        "\n",
        "    name = extract_name(text_front)\n",
        "    dob = extract_dob(combined)\n",
        "    gender = extract_gender(combined)\n",
        "    aadhaar_number = extract_aadhaar_number(combined)\n",
        "    address = extract_address(text_back)\n",
        "    photo_path = extract_face(front_path)\n",
        "\n",
        "    result = {\n",
        "        \"Name\": name,\n",
        "        \"DOB\": dob,\n",
        "        \"Gender\": gender,\n",
        "        \"Aadhaar_Number\": aadhaar_number,\n",
        "        \"Address\": address,\n",
        "        \"Photo_Path\": photo_path\n",
        "    }\n",
        "\n",
        "    os.makedirs(\"outputs\", exist_ok=True)\n",
        "    with open(\"outputs/result.json\", \"w\", encoding=\"utf-8\") as f:\n",
        "        json.dump(result, f, indent=4)\n",
        "\n",
        "    return result\n"
      ],
      "metadata": {
        "id": "bfByAtA5On_k"
      },
      "execution_count": null,
      "outputs": []
    },
    {
      "cell_type": "code",
      "source": [
        "if __name__ == \"__main__\":\n",
        "    front_img = \"/content/sample_aadhar_front.jpeg\"\n",
        "    back_img = \"/content/sample_aadhar_back.jpeg\"\n",
        "    output = extract_aadhaar_details(front_img, back_img)\n",
        "    print(json.dumps(output, indent=4))"
      ],
      "metadata": {
        "colab": {
          "base_uri": "https://localhost:8080/"
        },
        "id": "VtuVHzR-Ov9W",
        "outputId": "003a0ed4-9a36-4d73-e978-cff143290e9b"
      },
      "execution_count": null,
      "outputs": [
        {
          "output_type": "stream",
          "name": "stdout",
          "text": [
            "{\n",
            "    \"Name\": \"Varun Kumar Gera.\",\n",
            "    \"DOB\": \"24/07/2003\",\n",
            "    \"Gender\": \"Male\",\n",
            "    \"Aadhaar_Number\": \"9175 9462 3982\",\n",
            "    \"Address\": \"S/O: Narender Gera, 2F/63, Ward-11, NH-2, Faridabad, Faridabad, Haryana - 121001 Air feu OH\",\n",
            "    \"Photo_Path\": \"photo.jpg\"\n",
            "}\n"
          ]
        }
      ]
    },
    {
      "cell_type": "code",
      "source": [],
      "metadata": {
        "id": "pwZHFma2d2jC"
      },
      "execution_count": null,
      "outputs": []
    }
  ]
}