{
  "nbformat": 4,
  "nbformat_minor": 0,
  "metadata": {
    "colab": {
      "provenance": []
    },
    "kernelspec": {
      "name": "python3",
      "display_name": "Python 3"
    },
    "language_info": {
      "name": "python"
    }
  },
  "cells": [
    {
      "cell_type": "code",
      "source": [
        "import re\n",
        "from PIL import Image\n",
        "import pytesseract\n",
        "import cv2\n",
        "from google.colab.patches import cv2_imshow\n",
        "import numpy as np\n",
        "from rtree import index\n",
        "from dataclasses import dataclass\n",
        "from typing import List\n",
        "import json\n"
      ],
      "metadata": {
        "id": "3qsX5sKq6MzC"
      },
      "execution_count": 44,
      "outputs": []
    },
    {
      "cell_type": "code",
      "source": [
        "PATH = \"/content/samplerenewalformEdited.jpg\"\n",
        "image = cv2.imread(PATH)\n",
        "text = pytesseract.image_to_string(Image.open(PATH), config='--dpi 440 -l eng')\n",
        "print(text)\n"
      ],
      "metadata": {
        "colab": {
          "base_uri": "https://localhost:8080/"
        },
        "id": "uOt89PW3RRSJ",
        "outputId": "d944880a-3432-4dee-e086-572337d29c4e"
      },
      "execution_count": 163,
      "outputs": [
        {
          "output_type": "stream",
          "name": "stdout",
          "text": [
            " \n",
            "\n",
            " \n",
            "\n",
            "FORM 9\n",
            "[See Rule 18(1)]\n",
            "FORM OF APPLICATION FOR THE RENEWAL OF DRIVING LICENCE\n",
            "\n",
            " \n",
            "\n",
            "Space for\n",
            "Passport\n",
            "size\n",
            "photograph\n",
            "\n",
            " \n",
            "\n",
            "I, Shri/Smt./Kumari Manoj Kumar\n",
            "\n",
            " \n",
            "\n",
            " \n",
            "\n",
            "Son/Wife/Daughter of... Satish Kumar hereby apply for the renewal of my\n",
            "\n",
            " \n",
            "\n",
            " \n",
            "\n",
            "driving licence which is attached and particulars of which are as follows:\n",
            "\n",
            " \n",
            "\n",
            " \n",
            "\n",
            " \n",
            "\n",
            " \n",
            "\n",
            " \n",
            "\n",
            " \n",
            "\n",
            " \n",
            "\n",
            " \n",
            "\n",
            "(a) Number : HR-2039474809\n",
            "(b) Date of issue : 02-07-2010\n",
            "(c) Licensing authority by which the: RTO Gurugram\n",
            "licence was issued\n",
            "(d) Licensing authority by which the: RTO Gurugram\n",
            "licence was last renewed\n",
            "No. and date of renewal 4\n",
            "(e) Class of vehicles authorized to be LCV, LMV\n",
            "driven S :\n",
            "(f) Date of expiry of licence to drive\n",
            "(i) Transport vehicle : 02-03-2020\n",
            "(ii) Vehicles other than transport , 28-02-2020\n",
            "vehicles ooo\n",
            "My present address is 3 H.No. - 909, Sector 33F\n",
            "\n",
            " \n",
            "\n",
            "Gurugram, Haryana - 122003\n",
            "\n",
            " \n",
            "\n",
            "If this address is not entered on the licence, I do / do not wish that it should be so entered.\n",
            "If the licence is not attached, reasons why it is not available?\n",
            "\n",
            " \n",
            "\n",
            "If the licence was not renewed within thirty days of the date of expiry, reasons for delay\n",
            "\n",
            "The renewal of licence has not been refused by any licensing authority.\n",
            "\n",
            "T have not been disqualified for holding or obtaining a driving licence. My licence has not been revoked.\n",
            "T enclose a medical fitness certificate in Form 1A.\n",
            "\n",
            "Tenclose three copies of my recent photograph (5 cms. by 6 cms.)\n",
            "\n",
            "Ihave paid the fee of Rs..\n",
            "\n",
            "I hereby declare that to the best of my knowledge and belief the particulars given above are true.\n",
            "\n",
            "Sid SMSO cuss Signature or thumb impression of Applicant\n",
            "\n",
            "Address...1.No. - 909, Sector 33F\n",
            "Gurugram, Haryana - 122003\n",
            "\n",
            " \n",
            "\n",
            " \n",
            "\f\n"
          ]
        }
      ]
    },
    {
      "cell_type": "code",
      "source": [
        "name_pattern = r'I,\\s+((?:Shri\\s*/\\s*Smt\\.?\\s*/\\s*Kumari))\\s+([A-Z][a-z]+(?:\\s[A-Z][a-z]+)*)'\n",
        "parent_pattern = r'(Son|Wife|Daughter)\\s*/\\s*(?:Son|Wife|Daughter)?\\s*of\\.?\\s+([A-Z][a-z]+(?:\\s[A-Z][a-z]+)*)'\n",
        "number_pattern = r'Number\\s+.*?([A-Z]{2}-\\d{10})'\n",
        "date_pattern = r'Date of issue\\s+.*?(\\d{2}-\\d{2}-\\d{4})'\n",
        "pattern_issued = r'Licensing authority by which the\\s*:\\s*([^\\n]+)\\n.*?issued'\n",
        "pattern_renewed = r'Licensing authority by which the\\s*:\\s*([^\\n]+)\\n.*?renewed'\n",
        "pattern_renewel_date = r'Date of renewal\\s*:\\s*(\\d{2}-\\d{2}-\\d{4})?'\n",
        "class_pattern = r'Class of vehicles authorized to be\\s+([^\\n:]+)\\s*driven'\n",
        "pattern_transport = r'Transport vehicle\\s*[:.]\\s*(\\d{2}-\\d{2}-\\d{4})'\n",
        "pattern_non_transport = r'Vehicles other than transport\\s*[:.,]?\\s*(\\d{2}-\\d{2}-\\d{4})'\n",
        "pattern_address = r'My present address is\\s*[:\\d\\s]*\\s*(.+?)(?=\\nIf this address)'\n",
        "\n",
        "pattern_reason_not_attached = r'If the licence is not attached, reasons why it is not available\\?\\s*(.+?)(?=\\nIf the licence was not renewed)'\n",
        "pattern_reason_renewal_delay = r'If the licence was not renewed within thirty days.*?reasons for delay\\s*(.+?)(?=\\nThe renewal of licence has not been refused by any licensing authority\\.)'\n",
        "pattern_fee = r'I\\s*have\\s*paid\\s*the\\s*fee\\s*of\\s*Rs\\s*(\\d+)?'\n",
        "\n",
        "\n",
        "def extract_info(text):\n",
        "    data = {}\n",
        "\n",
        "    gray = cv2.cvtColor(image, cv2.COLOR_BGR2GRAY)\n",
        "    face_cascade = cv2.CascadeClassifier(cv2.data.haarcascades + \"haarcascade_frontalface_default.xml\")\n",
        "    faces = face_cascade.detectMultiScale(gray, scaleFactor=1.1, minNeighbors=5, minSize=(30,30))\n",
        "\n",
        "    if len(faces) > 0:\n",
        "        data['Photo'] = \"Present\"\n",
        "    else:\n",
        "        data['Photo'] = \"Missing\"\n",
        "\n",
        "    # Name\n",
        "    match = re.search(name_pattern, text)\n",
        "    if match:\n",
        "        data['Name'] = match.group(2).strip()\n",
        "\n",
        "    # Parent / Guardian\n",
        "    match = re.search(parent_pattern, text)\n",
        "    if match:\n",
        "        data['Relative_Name'] = match.group(2).strip()\n",
        "\n",
        "    # Number\n",
        "    match = re.search(number_pattern, text)\n",
        "    if match:\n",
        "        data['Number'] = match.group(1).strip()\n",
        "\n",
        "    # Date of Issue\n",
        "    match = re.search(date_pattern, text)\n",
        "    if match:\n",
        "        data['Date_of_Issue'] = match.group(1).strip()\n",
        "\n",
        "    # Licensing authority\n",
        "    match = re.search(pattern_issued, text, re.IGNORECASE)\n",
        "    if match:\n",
        "        data['Issued_by'] = match.group(1).strip()\n",
        "\n",
        "    match = re.search(pattern_renewed, text, re.IGNORECASE)\n",
        "    if match:\n",
        "        data['Last_Renewed_by'] = match.group(1).strip()\n",
        "\n",
        "    # Renewal Date\n",
        "    match = re.search(pattern_renewel_date, text, re.IGNORECASE)\n",
        "    data['Date_of_Renewal'] = match.group(1).strip() if match and match.group(1) else None\n",
        "\n",
        "    # Class of Vehicles\n",
        "    match = re.search(class_pattern, text, re.IGNORECASE)\n",
        "    if match:\n",
        "        data['Class_of_Vehicles'] = match.group(1).strip()\n",
        "\n",
        "    # Vehicle Expiry Dates\n",
        "    match = re.search(pattern_transport, text, re.IGNORECASE)\n",
        "    data['Transport_Vehicle_Expiry'] = match.group(1).strip() if match else None\n",
        "\n",
        "    match = re.search(pattern_non_transport, text, re.IGNORECASE)\n",
        "    data['Non_Transport_Vehicle_Expiry'] = match.group(1).strip() if match else None\n",
        "\n",
        "    # Address\n",
        "    match = re.search(pattern_address, text, re.DOTALL | re.IGNORECASE)\n",
        "    if match:\n",
        "        address = match.group(1).replace('\\n', ' ').strip()\n",
        "        data['Present_Address'] = address\n",
        "\n",
        "    # Reason if licence not attached\n",
        "    match = re.search(pattern_reason_not_attached, text, re.DOTALL | re.IGNORECASE)\n",
        "    data['Reason_Not_Attached_Question'] = match.group(0).strip() if match else None\n",
        "    data['Reason_Not_Attached_Answer'] = match.group(1).strip() if match and match.group(1).strip() else None\n",
        "\n",
        "    # Reason for renewal delay\n",
        "    match = re.search(pattern_reason_renewal_delay, text, re.DOTALL | re.IGNORECASE)\n",
        "    data['Reason_Renewal_Delay_Question'] = match.group(0).strip() if match else None\n",
        "    data['Reason_Renewal_Delay_Answer'] = match.group(1).strip() if match and match.group(1).strip() else None\n",
        "\n",
        "    #Fee\n",
        "    match = re.search(pattern_fee, text, re.IGNORECASE)\n",
        "    data['Fee_Paid'] = match.group(1) if match and match.group(1) else None\n",
        "\n",
        "    return data\n",
        "\n",
        "info = extract_info(text)\n",
        "for key, value in info.items():\n",
        "    print(f\"{key}: {value}\")\n"
      ],
      "metadata": {
        "colab": {
          "base_uri": "https://localhost:8080/"
        },
        "id": "a7-DJ2qOTzPA",
        "outputId": "ccd7458e-2017-4c5f-b65c-00cc31fd11a2"
      },
      "execution_count": 164,
      "outputs": [
        {
          "output_type": "stream",
          "name": "stdout",
          "text": [
            "Photo: Missing\n",
            "Name: Manoj Kumar\n",
            "Number: HR-2039474809\n",
            "Date_of_Issue: 02-07-2010\n",
            "Issued_by: RTO Gurugram\n",
            "Last_Renewed_by: RTO Gurugram\n",
            "Date_of_Renewal: None\n",
            "Class_of_Vehicles: LCV, LMV\n",
            "Transport_Vehicle_Expiry: 02-03-2020\n",
            "Non_Transport_Vehicle_Expiry: 28-02-2020\n",
            "Present_Address: H.No. - 909, Sector 33F     Gurugram, Haryana - 122003\n",
            "Reason_Not_Attached_Question: If the licence is not attached, reasons why it is not available?\n",
            "Reason_Not_Attached_Answer: None\n",
            "Reason_Renewal_Delay_Question: If the licence was not renewed within thirty days of the date of expiry, reasons for delay\n",
            "Reason_Renewal_Delay_Answer: None\n",
            "Fee_Paid: None\n"
          ]
        }
      ]
    },
    {
      "cell_type": "markdown",
      "source": [
        "JSON"
      ],
      "metadata": {
        "id": "Le4GwEZM6wZM"
      }
    },
    {
      "cell_type": "code",
      "source": [
        "height, width = image.shape[:2]\n",
        "x_start = width - 550\n",
        "y_start = height - 251\n",
        "x_end = width - 100\n",
        "y_end = height - 175\n",
        "cropped = image[y_start:y_end, x_start:x_end]\n",
        "cv2_imshow(cropped)\n",
        "cropped_path = \"/content/signature_crop.png\"\n",
        "cv2.imwrite(cropped_path, cropped)"
      ],
      "metadata": {
        "colab": {
          "base_uri": "https://localhost:8080/",
          "height": 110
        },
        "id": "rCThUHUe7s6w",
        "outputId": "fcd5344e-d1a4-4097-9ab7-85d929dd6ac6"
      },
      "execution_count": 165,
      "outputs": [
        {
          "output_type": "display_data",
          "data": {
            "text/plain": [
              "<PIL.Image.Image image mode=RGB size=450x76>"
            ],
            "image/png": "[encoded data removed]",
            "image/jpeg": "[encoded data removed]"
          },
          "metadata": {}
        },
        {
          "output_type": "execute_result",
          "data": {
            "text/plain": [
              "True"
            ]
          },
          "metadata": {},
          "execution_count": 165
        }
      ]
    },
    {
      "cell_type": "code",
      "source": [
        "fields_to_extract = [\"Number\", \"Date_of_Issue\", \"Class_of_Vehicles\", \"Issued_by\", \"Fee_paid\"]\n",
        "extracted_data = {key: info.get(key, None) for key in fields_to_extract}\n",
        "extracted_data[\"Signature_Path\"] = cropped_path\n",
        "json_data = json.dumps(extracted_data, indent=4)\n",
        "print(json_data)\n"
      ],
      "metadata": {
        "colab": {
          "base_uri": "https://localhost:8080/"
        },
        "id": "cNnFJMly6gg2",
        "outputId": "e723de60-4cdc-40eb-c569-80ef9ce237e0"
      },
      "execution_count": 166,
      "outputs": [
        {
          "output_type": "stream",
          "name": "stdout",
          "text": [
            "{\n",
            "    \"Number\": \"HR-2039474809\",\n",
            "    \"Date_of_Issue\": \"02-07-2010\",\n",
            "    \"Class_of_Vehicles\": \"LCV, LMV\",\n",
            "    \"Issued_by\": \"RTO Gurugram\",\n",
            "    \"Fee_paid\": null,\n",
            "    \"Signature_Path\": \"/content/signature_crop.png\"\n",
            "}\n"
          ]
        }
      ]
    }
  ]
}